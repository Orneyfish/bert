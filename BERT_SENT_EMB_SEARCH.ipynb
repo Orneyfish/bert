{
  "nbformat": 4,
  "nbformat_minor": 0,
  "metadata": {
    "colab": {
      "name": "BERT_SENT_EMB_SEARCH.ipynb",
      "provenance": [],
      "authorship_tag": "ABX9TyNl/ZASKR2RPZQ9dIOQtEA7",
      "include_colab_link": true
    },
    "kernelspec": {
      "name": "python3",
      "display_name": "Python 3"
    },
    "accelerator": "TPU",
    "widgets": {
      "application/vnd.jupyter.widget-state+json": {
        "294d914470d245faafc1a22611368668": {
          "model_module": "@jupyter-widgets/controls",
          "model_name": "HBoxModel",
          "state": {
            "_view_name": "HBoxView",
            "_dom_classes": [],
            "_model_name": "HBoxModel",
            "_view_module": "@jupyter-widgets/controls",
            "_model_module_version": "1.5.0",
            "_view_count": null,
            "_view_module_version": "1.5.0",
            "box_style": "",
            "layout": "IPY_MODEL_1696905f509e4dad95f2c10eedfb6a04",
            "_model_module": "@jupyter-widgets/controls",
            "children": [
              "IPY_MODEL_f815421499144a31a1f426e6a78dd43e",
              "IPY_MODEL_939ddb81f37e46c1b4e96c7c9ce3a67c"
            ]
          }
        },
        "1696905f509e4dad95f2c10eedfb6a04": {
          "model_module": "@jupyter-widgets/base",
          "model_name": "LayoutModel",
          "state": {
            "_view_name": "LayoutView",
            "grid_template_rows": null,
            "right": null,
            "justify_content": null,
            "_view_module": "@jupyter-widgets/base",
            "overflow": null,
            "_model_module_version": "1.2.0",
            "_view_count": null,
            "flex_flow": null,
            "width": null,
            "min_width": null,
            "border": null,
            "align_items": null,
            "bottom": null,
            "_model_module": "@jupyter-widgets/base",
            "top": null,
            "grid_column": null,
            "overflow_y": null,
            "overflow_x": null,
            "grid_auto_flow": null,
            "grid_area": null,
            "grid_template_columns": null,
            "flex": null,
            "_model_name": "LayoutModel",
            "justify_items": null,
            "grid_row": null,
            "max_height": null,
            "align_content": null,
            "visibility": null,
            "align_self": null,
            "height": null,
            "min_height": null,
            "padding": null,
            "grid_auto_rows": null,
            "grid_gap": null,
            "max_width": null,
            "order": null,
            "_view_module_version": "1.2.0",
            "grid_template_areas": null,
            "object_position": null,
            "object_fit": null,
            "grid_auto_columns": null,
            "margin": null,
            "display": null,
            "left": null
          }
        },
        "f815421499144a31a1f426e6a78dd43e": {
          "model_module": "@jupyter-widgets/controls",
          "model_name": "IntProgressModel",
          "state": {
            "_view_name": "ProgressView",
            "style": "IPY_MODEL_8a1642d022dd4ef2ad12352488c35332",
            "_dom_classes": [],
            "description": "Downloading: 100%",
            "_model_name": "IntProgressModel",
            "bar_style": "success",
            "max": 231508,
            "_view_module": "@jupyter-widgets/controls",
            "_model_module_version": "1.5.0",
            "value": 231508,
            "_view_count": null,
            "_view_module_version": "1.5.0",
            "orientation": "horizontal",
            "min": 0,
            "description_tooltip": null,
            "_model_module": "@jupyter-widgets/controls",
            "layout": "IPY_MODEL_c04bdb9595d447ffa16317af01376184"
          }
        },
        "939ddb81f37e46c1b4e96c7c9ce3a67c": {
          "model_module": "@jupyter-widgets/controls",
          "model_name": "HTMLModel",
          "state": {
            "_view_name": "HTMLView",
            "style": "IPY_MODEL_985f859a0fec49b4aff615f98c905ed9",
            "_dom_classes": [],
            "description": "",
            "_model_name": "HTMLModel",
            "placeholder": "​",
            "_view_module": "@jupyter-widgets/controls",
            "_model_module_version": "1.5.0",
            "value": " 232k/232k [00:00&lt;00:00, 1.40MB/s]",
            "_view_count": null,
            "_view_module_version": "1.5.0",
            "description_tooltip": null,
            "_model_module": "@jupyter-widgets/controls",
            "layout": "IPY_MODEL_7de4dcaa79f44711823d83efd9d02199"
          }
        },
        "8a1642d022dd4ef2ad12352488c35332": {
          "model_module": "@jupyter-widgets/controls",
          "model_name": "ProgressStyleModel",
          "state": {
            "_view_name": "StyleView",
            "_model_name": "ProgressStyleModel",
            "description_width": "initial",
            "_view_module": "@jupyter-widgets/base",
            "_model_module_version": "1.5.0",
            "_view_count": null,
            "_view_module_version": "1.2.0",
            "bar_color": null,
            "_model_module": "@jupyter-widgets/controls"
          }
        },
        "c04bdb9595d447ffa16317af01376184": {
          "model_module": "@jupyter-widgets/base",
          "model_name": "LayoutModel",
          "state": {
            "_view_name": "LayoutView",
            "grid_template_rows": null,
            "right": null,
            "justify_content": null,
            "_view_module": "@jupyter-widgets/base",
            "overflow": null,
            "_model_module_version": "1.2.0",
            "_view_count": null,
            "flex_flow": null,
            "width": null,
            "min_width": null,
            "border": null,
            "align_items": null,
            "bottom": null,
            "_model_module": "@jupyter-widgets/base",
            "top": null,
            "grid_column": null,
            "overflow_y": null,
            "overflow_x": null,
            "grid_auto_flow": null,
            "grid_area": null,
            "grid_template_columns": null,
            "flex": null,
            "_model_name": "LayoutModel",
            "justify_items": null,
            "grid_row": null,
            "max_height": null,
            "align_content": null,
            "visibility": null,
            "align_self": null,
            "height": null,
            "min_height": null,
            "padding": null,
            "grid_auto_rows": null,
            "grid_gap": null,
            "max_width": null,
            "order": null,
            "_view_module_version": "1.2.0",
            "grid_template_areas": null,
            "object_position": null,
            "object_fit": null,
            "grid_auto_columns": null,
            "margin": null,
            "display": null,
            "left": null
          }
        },
        "985f859a0fec49b4aff615f98c905ed9": {
          "model_module": "@jupyter-widgets/controls",
          "model_name": "DescriptionStyleModel",
          "state": {
            "_view_name": "StyleView",
            "_model_name": "DescriptionStyleModel",
            "description_width": "",
            "_view_module": "@jupyter-widgets/base",
            "_model_module_version": "1.5.0",
            "_view_count": null,
            "_view_module_version": "1.2.0",
            "_model_module": "@jupyter-widgets/controls"
          }
        },
        "7de4dcaa79f44711823d83efd9d02199": {
          "model_module": "@jupyter-widgets/base",
          "model_name": "LayoutModel",
          "state": {
            "_view_name": "LayoutView",
            "grid_template_rows": null,
            "right": null,
            "justify_content": null,
            "_view_module": "@jupyter-widgets/base",
            "overflow": null,
            "_model_module_version": "1.2.0",
            "_view_count": null,
            "flex_flow": null,
            "width": null,
            "min_width": null,
            "border": null,
            "align_items": null,
            "bottom": null,
            "_model_module": "@jupyter-widgets/base",
            "top": null,
            "grid_column": null,
            "overflow_y": null,
            "overflow_x": null,
            "grid_auto_flow": null,
            "grid_area": null,
            "grid_template_columns": null,
            "flex": null,
            "_model_name": "LayoutModel",
            "justify_items": null,
            "grid_row": null,
            "max_height": null,
            "align_content": null,
            "visibility": null,
            "align_self": null,
            "height": null,
            "min_height": null,
            "padding": null,
            "grid_auto_rows": null,
            "grid_gap": null,
            "max_width": null,
            "order": null,
            "_view_module_version": "1.2.0",
            "grid_template_areas": null,
            "object_position": null,
            "object_fit": null,
            "grid_auto_columns": null,
            "margin": null,
            "display": null,
            "left": null
          }
        }
      }
    }
  },
  "cells": [
    {
      "cell_type": "markdown",
      "metadata": {
        "id": "view-in-github",
        "colab_type": "text"
      },
      "source": [
        "<a href=\"https://colab.research.google.com/github/Orneyfish/bert/blob/master/BERT_SENT_EMB_SEARCH.ipynb\" target=\"_parent\"><img src=\"https://colab.research.google.com/assets/colab-badge.svg\" alt=\"Open In Colab\"/></a>"
      ]
    },
    {
      "cell_type": "code",
      "metadata": {
        "id": "icQPQWArcgaU",
        "colab_type": "code",
        "outputId": "807b9066-0c0f-49f1-eb0f-c64fd403cb6c",
        "colab": {
          "base_uri": "https://localhost:8080/",
          "height": 373
        }
      },
      "source": [
        "! pip install bert-serving-server bert-serving-client\n",
        "! pip install tensorflow-gpu==1.14.0-rc0"
      ],
      "execution_count": 2,
      "outputs": [
        {
          "output_type": "stream",
          "text": [
            "Collecting bert-serving-server\n",
            "\u001b[?25l  Downloading https://files.pythonhosted.org/packages/b0/bd/cab677bbd0c5fb08b72e468371d2bca6ed9507785739b4656b0b5470d90b/bert_serving_server-1.10.0-py3-none-any.whl (61kB)\n",
            "\r\u001b[K     |█████▎                          | 10kB 17.1MB/s eta 0:00:01\r\u001b[K     |██████████▋                     | 20kB 2.1MB/s eta 0:00:01\r\u001b[K     |████████████████                | 30kB 3.1MB/s eta 0:00:01\r\u001b[K     |█████████████████████▎          | 40kB 2.1MB/s eta 0:00:01\r\u001b[K     |██████████████████████████▋     | 51kB 2.5MB/s eta 0:00:01\r\u001b[K     |███████████████████████████████▉| 61kB 3.0MB/s eta 0:00:01\r\u001b[K     |████████████████████████████████| 71kB 2.5MB/s \n",
            "\u001b[?25hCollecting bert-serving-client\n",
            "  Downloading https://files.pythonhosted.org/packages/1f/09/aae1405378a848b2e87769ad89a43d6d71978c4e15534ca48e82e723a72f/bert_serving_client-1.10.0-py2.py3-none-any.whl\n",
            "Collecting GPUtil>=1.3.0\n",
            "  Downloading https://files.pythonhosted.org/packages/ed/0e/5c61eedde9f6c87713e89d794f01e378cfd9565847d4576fa627d758c554/GPUtil-1.4.0.tar.gz\n",
            "Requirement already satisfied: termcolor>=1.1 in /usr/local/lib/python3.6/dist-packages (from bert-serving-server) (1.1.0)\n",
            "Requirement already satisfied: numpy in /usr/local/lib/python3.6/dist-packages (from bert-serving-server) (1.18.3)\n",
            "Requirement already satisfied: six in /usr/local/lib/python3.6/dist-packages (from bert-serving-server) (1.12.0)\n",
            "Requirement already satisfied: pyzmq>=17.1.0 in /usr/local/lib/python3.6/dist-packages (from bert-serving-server) (19.0.0)\n",
            "Building wheels for collected packages: GPUtil\n",
            "  Building wheel for GPUtil (setup.py) ... \u001b[?25l\u001b[?25hdone\n",
            "  Created wheel for GPUtil: filename=GPUtil-1.4.0-cp36-none-any.whl size=7413 sha256=b56c75aee99b519764526d5293fc79ed97a29794fd97aee3a1be183e0da7be7f\n",
            "  Stored in directory: /root/.cache/pip/wheels/3d/77/07/80562de4bb0786e5ea186911a2c831fdd0018bda69beab71fd\n",
            "Successfully built GPUtil\n",
            "Installing collected packages: GPUtil, bert-serving-server, bert-serving-client\n",
            "Successfully installed GPUtil-1.4.0 bert-serving-client-1.10.0 bert-serving-server-1.10.0\n",
            "\u001b[31mERROR: Could not find a version that satisfies the requirement tensorflow-gpu==1.14.0-rc0 (from versions: 0.12.1, 1.0.0, 1.0.1, 1.1.0, 1.2.0, 1.2.1, 1.3.0, 1.4.0, 1.4.1, 1.5.0, 1.5.1, 1.6.0, 1.7.0, 1.7.1, 1.8.0, 1.9.0, 1.10.0, 1.10.1, 1.11.0, 1.12.0, 1.12.2, 1.12.3, 1.13.1, 1.13.2, 1.14.0, 1.15.0rc0, 1.15.0rc1, 1.15.0rc2, 1.15.0rc3, 1.15.0, 1.15.2, 2.0.0a0, 2.0.0b0, 2.0.0b1, 2.0.0rc0, 2.0.0rc1, 2.0.0rc2, 2.0.0, 2.0.1, 2.1.0rc0, 2.1.0rc1, 2.1.0rc2, 2.1.0, 2.2.0rc0, 2.2.0rc1, 2.2.0rc2, 2.2.0rc3)\u001b[0m\n",
            "\u001b[31mERROR: No matching distribution found for tensorflow-gpu==1.14.0-rc0\u001b[0m\n"
          ],
          "name": "stdout"
        }
      ]
    },
    {
      "cell_type": "code",
      "metadata": {
        "id": "cnSxPbkxhpsv",
        "colab_type": "code",
        "outputId": "d2b4bdf5-6307-4fb3-a07d-61b92b63dadb",
        "colab": {
          "base_uri": "https://localhost:8080/",
          "height": 168
        }
      },
      "source": [
        "! pip install wget"
      ],
      "execution_count": 3,
      "outputs": [
        {
          "output_type": "stream",
          "text": [
            "Collecting wget\n",
            "  Downloading https://files.pythonhosted.org/packages/47/6a/62e288da7bcda82b935ff0c6cfe542970f04e29c756b0e147251b2fb251f/wget-3.2.zip\n",
            "Building wheels for collected packages: wget\n",
            "  Building wheel for wget (setup.py) ... \u001b[?25l\u001b[?25hdone\n",
            "  Created wheel for wget: filename=wget-3.2-cp36-none-any.whl size=9682 sha256=6854541715efdd2b8715f8442cdc4f0578f32dcd194cdac22f782e33e323fe61\n",
            "  Stored in directory: /root/.cache/pip/wheels/40/15/30/7d8f7cea2902b4db79e3fea550d7d7b85ecb27ef992b618f3f\n",
            "Successfully built wget\n",
            "Installing collected packages: wget\n",
            "Successfully installed wget-3.2\n"
          ],
          "name": "stdout"
        }
      ]
    },
    {
      "cell_type": "code",
      "metadata": {
        "id": "mi5R5eAAsLwJ",
        "colab_type": "code",
        "outputId": "11f091f8-3f1c-4657-94a0-50830315e5ac",
        "colab": {
          "base_uri": "https://localhost:8080/",
          "height": 843
        }
      },
      "source": [
        "# Install the library using pip\n",
        "!pip install sentence-transformers"
      ],
      "execution_count": 4,
      "outputs": [
        {
          "output_type": "stream",
          "text": [
            "Collecting sentence-transformers\n",
            "\u001b[?25l  Downloading https://files.pythonhosted.org/packages/b9/46/b7d6c37d92d1bd65319220beabe4df845434930e3f30e42d3cfaecb74dc4/sentence-transformers-0.2.6.1.tar.gz (55kB)\n",
            "\u001b[K     |████████████████████████████████| 61kB 2.3MB/s \n",
            "\u001b[?25hCollecting transformers>=2.8.0\n",
            "\u001b[?25l  Downloading https://files.pythonhosted.org/packages/a3/78/92cedda05552398352ed9784908b834ee32a0bd071a9b32de287327370b7/transformers-2.8.0-py3-none-any.whl (563kB)\n",
            "\u001b[K     |████████████████████████████████| 573kB 9.5MB/s \n",
            "\u001b[?25hRequirement already satisfied: tqdm in /usr/local/lib/python3.6/dist-packages (from sentence-transformers) (4.38.0)\n",
            "Requirement already satisfied: torch>=1.0.1 in /usr/local/lib/python3.6/dist-packages (from sentence-transformers) (1.4.0)\n",
            "Requirement already satisfied: numpy in /usr/local/lib/python3.6/dist-packages (from sentence-transformers) (1.18.3)\n",
            "Requirement already satisfied: scikit-learn in /usr/local/lib/python3.6/dist-packages (from sentence-transformers) (0.22.2.post1)\n",
            "Requirement already satisfied: scipy in /usr/local/lib/python3.6/dist-packages (from sentence-transformers) (1.4.1)\n",
            "Requirement already satisfied: nltk in /usr/local/lib/python3.6/dist-packages (from sentence-transformers) (3.2.5)\n",
            "Collecting sacremoses\n",
            "\u001b[?25l  Downloading https://files.pythonhosted.org/packages/99/50/93509f906a40bffd7d175f97fd75ea328ad9bd91f48f59c4bd084c94a25e/sacremoses-0.0.41.tar.gz (883kB)\n",
            "\u001b[K     |████████████████████████████████| 890kB 42.1MB/s \n",
            "\u001b[?25hCollecting tokenizers==0.5.2\n",
            "\u001b[?25l  Downloading https://files.pythonhosted.org/packages/d1/3f/73c881ea4723e43c1e9acf317cf407fab3a278daab3a69c98dcac511c04f/tokenizers-0.5.2-cp36-cp36m-manylinux1_x86_64.whl (3.7MB)\n",
            "\u001b[K     |████████████████████████████████| 3.7MB 42.4MB/s \n",
            "\u001b[?25hRequirement already satisfied: boto3 in /usr/local/lib/python3.6/dist-packages (from transformers>=2.8.0->sentence-transformers) (1.12.43)\n",
            "Requirement already satisfied: filelock in /usr/local/lib/python3.6/dist-packages (from transformers>=2.8.0->sentence-transformers) (3.0.12)\n",
            "Requirement already satisfied: regex!=2019.12.17 in /usr/local/lib/python3.6/dist-packages (from transformers>=2.8.0->sentence-transformers) (2019.12.20)\n",
            "Collecting sentencepiece\n",
            "\u001b[?25l  Downloading https://files.pythonhosted.org/packages/98/2c/8df20f3ac6c22ac224fff307ebc102818206c53fc454ecd37d8ac2060df5/sentencepiece-0.1.86-cp36-cp36m-manylinux1_x86_64.whl (1.0MB)\n",
            "\u001b[K     |████████████████████████████████| 1.0MB 43.6MB/s \n",
            "\u001b[?25hRequirement already satisfied: dataclasses; python_version < \"3.7\" in /usr/local/lib/python3.6/dist-packages (from transformers>=2.8.0->sentence-transformers) (0.7)\n",
            "Requirement already satisfied: requests in /usr/local/lib/python3.6/dist-packages (from transformers>=2.8.0->sentence-transformers) (2.21.0)\n",
            "Requirement already satisfied: joblib>=0.11 in /usr/local/lib/python3.6/dist-packages (from scikit-learn->sentence-transformers) (0.14.1)\n",
            "Requirement already satisfied: six in /usr/local/lib/python3.6/dist-packages (from nltk->sentence-transformers) (1.12.0)\n",
            "Requirement already satisfied: click in /usr/local/lib/python3.6/dist-packages (from sacremoses->transformers>=2.8.0->sentence-transformers) (7.1.1)\n",
            "Requirement already satisfied: s3transfer<0.4.0,>=0.3.0 in /usr/local/lib/python3.6/dist-packages (from boto3->transformers>=2.8.0->sentence-transformers) (0.3.3)\n",
            "Requirement already satisfied: botocore<1.16.0,>=1.15.43 in /usr/local/lib/python3.6/dist-packages (from boto3->transformers>=2.8.0->sentence-transformers) (1.15.43)\n",
            "Requirement already satisfied: jmespath<1.0.0,>=0.7.1 in /usr/local/lib/python3.6/dist-packages (from boto3->transformers>=2.8.0->sentence-transformers) (0.9.5)\n",
            "Requirement already satisfied: chardet<3.1.0,>=3.0.2 in /usr/local/lib/python3.6/dist-packages (from requests->transformers>=2.8.0->sentence-transformers) (3.0.4)\n",
            "Requirement already satisfied: certifi>=2017.4.17 in /usr/local/lib/python3.6/dist-packages (from requests->transformers>=2.8.0->sentence-transformers) (2020.4.5.1)\n",
            "Requirement already satisfied: urllib3<1.25,>=1.21.1 in /usr/local/lib/python3.6/dist-packages (from requests->transformers>=2.8.0->sentence-transformers) (1.24.3)\n",
            "Requirement already satisfied: idna<2.9,>=2.5 in /usr/local/lib/python3.6/dist-packages (from requests->transformers>=2.8.0->sentence-transformers) (2.8)\n",
            "Requirement already satisfied: docutils<0.16,>=0.10 in /usr/local/lib/python3.6/dist-packages (from botocore<1.16.0,>=1.15.43->boto3->transformers>=2.8.0->sentence-transformers) (0.15.2)\n",
            "Requirement already satisfied: python-dateutil<3.0.0,>=2.1 in /usr/local/lib/python3.6/dist-packages (from botocore<1.16.0,>=1.15.43->boto3->transformers>=2.8.0->sentence-transformers) (2.8.1)\n",
            "Building wheels for collected packages: sentence-transformers, sacremoses\n",
            "  Building wheel for sentence-transformers (setup.py) ... \u001b[?25l\u001b[?25hdone\n",
            "  Created wheel for sentence-transformers: filename=sentence_transformers-0.2.6.1-cp36-none-any.whl size=74031 sha256=bddcf45fab06ca51c095af9623a7e60b1afccd98eedf30aec66f6eda4e82d30c\n",
            "  Stored in directory: /root/.cache/pip/wheels/d7/fa/17/2b081a8cd8b0a86753fb0e9826b3cc19f0207062c0b2da7008\n",
            "  Building wheel for sacremoses (setup.py) ... \u001b[?25l\u001b[?25hdone\n",
            "  Created wheel for sacremoses: filename=sacremoses-0.0.41-cp36-none-any.whl size=893334 sha256=e850bdc89c6db32ddba3bcf3bc95f80a0e9ae8a83045d9ced21361d157bfe0b2\n",
            "  Stored in directory: /root/.cache/pip/wheels/22/5a/d4/b020a81249de7dc63758a34222feaa668dbe8ebfe9170cc9b1\n",
            "Successfully built sentence-transformers sacremoses\n",
            "Installing collected packages: sacremoses, tokenizers, sentencepiece, transformers, sentence-transformers\n",
            "Successfully installed sacremoses-0.0.41 sentence-transformers-0.2.6.1 sentencepiece-0.1.86 tokenizers-0.5.2 transformers-2.8.0\n"
          ],
          "name": "stdout"
        }
      ]
    },
    {
      "cell_type": "code",
      "metadata": {
        "id": "jnj1qZGSsTTi",
        "colab_type": "code",
        "colab": {
          "base_uri": "https://localhost:8080/",
          "height": 34
        },
        "outputId": "d23e3cff-129c-4306-db14-2fbe876986ff"
      },
      "source": [
        "from sentence_transformers import SentenceTransformer\n",
        "\n",
        "# Load the BERT model. Various models trained on Natural Language Inference (NLI) https://github.com/UKPLab/sentence-transformers/blob/master/docs/pretrained-models/nli-models.md and \n",
        "# Semantic Textual Similarity are available https://github.com/UKPLab/sentence-transformers/blob/master/docs/pretrained-models/sts-models.md\n",
        "\n",
        "model = SentenceTransformer('bert-base-nli-mean-tokens')"
      ],
      "execution_count": 5,
      "outputs": [
        {
          "output_type": "stream",
          "text": [
            "100%|██████████| 405M/405M [00:19<00:00, 20.8MB/s]\n"
          ],
          "name": "stderr"
        }
      ]
    },
    {
      "cell_type": "code",
      "metadata": {
        "id": "GZaElJ5szHD6",
        "colab_type": "code",
        "outputId": "9811e69b-560f-4e1b-a2d3-c6185f0b3803",
        "colab": {
          "base_uri": "https://localhost:8080/",
          "height": 34
        }
      },
      "source": [
        "!pip install wget"
      ],
      "execution_count": 6,
      "outputs": [
        {
          "output_type": "stream",
          "text": [
            "Requirement already satisfied: wget in /usr/local/lib/python3.6/dist-packages (3.2)\n"
          ],
          "name": "stdout"
        }
      ]
    },
    {
      "cell_type": "code",
      "metadata": {
        "id": "hs9NrPm3zIin",
        "colab_type": "code",
        "outputId": "66128be5-b533-4f1e-e2a8-bbc623e686aa",
        "colab": {
          "base_uri": "https://localhost:8080/",
          "height": 34
        }
      },
      "source": [
        "import wget\n",
        "import os\n",
        "\n",
        "print('Downloading dataset...')\n",
        "\n",
        "# The URL for the dataset zip file.\n",
        "url = 'https://nyu-mll.github.io/CoLA/cola_public_1.1.zip'\n",
        "\n",
        "# Download the file (if we haven't already)\n",
        "if not os.path.exists('./cola_public_1.1.zip'):\n",
        "    wget.download(url, './cola_public_1.1.zip')"
      ],
      "execution_count": 8,
      "outputs": [
        {
          "output_type": "stream",
          "text": [
            "Downloading dataset...\n"
          ],
          "name": "stdout"
        }
      ]
    },
    {
      "cell_type": "code",
      "metadata": {
        "id": "GraZAwnwzOGg",
        "colab_type": "code",
        "outputId": "dfb4b173-7fd0-4b68-ca7f-f2cb8fac5acf",
        "colab": {
          "base_uri": "https://localhost:8080/",
          "height": 202
        }
      },
      "source": [
        "# Unzip the dataset (if we haven't already)\n",
        "if not os.path.exists('./cola_public/'):\n",
        "    !unzip cola_public_1.1.zip"
      ],
      "execution_count": 9,
      "outputs": [
        {
          "output_type": "stream",
          "text": [
            "Archive:  cola_public_1.1.zip\n",
            "   creating: cola_public/\n",
            "  inflating: cola_public/README      \n",
            "   creating: cola_public/tokenized/\n",
            "  inflating: cola_public/tokenized/in_domain_dev.tsv  \n",
            "  inflating: cola_public/tokenized/in_domain_train.tsv  \n",
            "  inflating: cola_public/tokenized/out_of_domain_dev.tsv  \n",
            "   creating: cola_public/raw/\n",
            "  inflating: cola_public/raw/in_domain_dev.tsv  \n",
            "  inflating: cola_public/raw/in_domain_train.tsv  \n",
            "  inflating: cola_public/raw/out_of_domain_dev.tsv  \n"
          ],
          "name": "stdout"
        }
      ]
    },
    {
      "cell_type": "code",
      "metadata": {
        "id": "Bj6W7LJazag3",
        "colab_type": "code",
        "outputId": "9859e58b-ce83-49ef-abd4-5715d7048c25",
        "colab": {
          "base_uri": "https://localhost:8080/",
          "height": 377
        }
      },
      "source": [
        "import pandas as pd\n",
        "\n",
        "# Load the dataset into a pandas dataframe.\n",
        "df = pd.read_csv(\"./cola_public/raw/in_domain_train.tsv\", delimiter='\\t', header=None, names=['sentence_source', 'label', 'label_notes', 'sentence'])\n",
        "\n",
        "# Report the number of sentences.\n",
        "print('Number of training sentences: {:,}\\n'.format(df.shape[0]))\n",
        "\n",
        "# Display 10 random rows from the data.\n",
        "df.sample(10)"
      ],
      "execution_count": 10,
      "outputs": [
        {
          "output_type": "stream",
          "text": [
            "Number of training sentences: 8,551\n",
            "\n"
          ],
          "name": "stdout"
        },
        {
          "output_type": "execute_result",
          "data": {
            "text/html": [
              "<div>\n",
              "<style scoped>\n",
              "    .dataframe tbody tr th:only-of-type {\n",
              "        vertical-align: middle;\n",
              "    }\n",
              "\n",
              "    .dataframe tbody tr th {\n",
              "        vertical-align: top;\n",
              "    }\n",
              "\n",
              "    .dataframe thead th {\n",
              "        text-align: right;\n",
              "    }\n",
              "</style>\n",
              "<table border=\"1\" class=\"dataframe\">\n",
              "  <thead>\n",
              "    <tr style=\"text-align: right;\">\n",
              "      <th></th>\n",
              "      <th>sentence_source</th>\n",
              "      <th>label</th>\n",
              "      <th>label_notes</th>\n",
              "      <th>sentence</th>\n",
              "    </tr>\n",
              "  </thead>\n",
              "  <tbody>\n",
              "    <tr>\n",
              "      <th>454</th>\n",
              "      <td>bc01</td>\n",
              "      <td>0</td>\n",
              "      <td>*</td>\n",
              "      <td>I wonder who what bought?</td>\n",
              "    </tr>\n",
              "    <tr>\n",
              "      <th>5787</th>\n",
              "      <td>c_13</td>\n",
              "      <td>1</td>\n",
              "      <td>NaN</td>\n",
              "      <td>the book of poems by Robert Burns with a red c...</td>\n",
              "    </tr>\n",
              "    <tr>\n",
              "      <th>6539</th>\n",
              "      <td>g_81</td>\n",
              "      <td>0</td>\n",
              "      <td>*</td>\n",
              "      <td>Which did you buy the table on Kim put the book?</td>\n",
              "    </tr>\n",
              "    <tr>\n",
              "      <th>148</th>\n",
              "      <td>cj99</td>\n",
              "      <td>0</td>\n",
              "      <td>*</td>\n",
              "      <td>It is important for the more you eat, the more...</td>\n",
              "    </tr>\n",
              "    <tr>\n",
              "      <th>8318</th>\n",
              "      <td>ad03</td>\n",
              "      <td>1</td>\n",
              "      <td>NaN</td>\n",
              "      <td>You said that Anson thought that Julie had fai...</td>\n",
              "    </tr>\n",
              "    <tr>\n",
              "      <th>8380</th>\n",
              "      <td>ad03</td>\n",
              "      <td>1</td>\n",
              "      <td>NaN</td>\n",
              "      <td>It was obvious that Plato loved Aster obvious.</td>\n",
              "    </tr>\n",
              "    <tr>\n",
              "      <th>3210</th>\n",
              "      <td>l-93</td>\n",
              "      <td>1</td>\n",
              "      <td>NaN</td>\n",
              "      <td>I buzzed the bell.</td>\n",
              "    </tr>\n",
              "    <tr>\n",
              "      <th>2796</th>\n",
              "      <td>l-93</td>\n",
              "      <td>0</td>\n",
              "      <td>*</td>\n",
              "      <td>Paula hit the stick into the fence.</td>\n",
              "    </tr>\n",
              "    <tr>\n",
              "      <th>2576</th>\n",
              "      <td>l-93</td>\n",
              "      <td>1</td>\n",
              "      <td>NaN</td>\n",
              "      <td>Tamara poured water into the bowl.</td>\n",
              "    </tr>\n",
              "    <tr>\n",
              "      <th>6990</th>\n",
              "      <td>sgww85</td>\n",
              "      <td>1</td>\n",
              "      <td>NaN</td>\n",
              "      <td>Pat is either asleep or at the office.</td>\n",
              "    </tr>\n",
              "  </tbody>\n",
              "</table>\n",
              "</div>"
            ],
            "text/plain": [
              "     sentence_source  ...                                           sentence\n",
              "454             bc01  ...                          I wonder who what bought?\n",
              "5787            c_13  ...  the book of poems by Robert Burns with a red c...\n",
              "6539            g_81  ...   Which did you buy the table on Kim put the book?\n",
              "148             cj99  ...  It is important for the more you eat, the more...\n",
              "8318            ad03  ...  You said that Anson thought that Julie had fai...\n",
              "8380            ad03  ...     It was obvious that Plato loved Aster obvious.\n",
              "3210            l-93  ...                                 I buzzed the bell.\n",
              "2796            l-93  ...                Paula hit the stick into the fence.\n",
              "2576            l-93  ...                 Tamara poured water into the bowl.\n",
              "6990          sgww85  ...             Pat is either asleep or at the office.\n",
              "\n",
              "[10 rows x 4 columns]"
            ]
          },
          "metadata": {
            "tags": []
          },
          "execution_count": 10
        }
      ]
    },
    {
      "cell_type": "code",
      "metadata": {
        "id": "J-0cduJbziwH",
        "colab_type": "code",
        "outputId": "2ed8b108-ef77-4608-d321-afdb05fcabde",
        "colab": {
          "base_uri": "https://localhost:8080/",
          "height": 195
        }
      },
      "source": [
        "df.loc[df.label == 0].sample(5)[['sentence', 'label']]"
      ],
      "execution_count": 11,
      "outputs": [
        {
          "output_type": "execute_result",
          "data": {
            "text/html": [
              "<div>\n",
              "<style scoped>\n",
              "    .dataframe tbody tr th:only-of-type {\n",
              "        vertical-align: middle;\n",
              "    }\n",
              "\n",
              "    .dataframe tbody tr th {\n",
              "        vertical-align: top;\n",
              "    }\n",
              "\n",
              "    .dataframe thead th {\n",
              "        text-align: right;\n",
              "    }\n",
              "</style>\n",
              "<table border=\"1\" class=\"dataframe\">\n",
              "  <thead>\n",
              "    <tr style=\"text-align: right;\">\n",
              "      <th></th>\n",
              "      <th>sentence</th>\n",
              "      <th>label</th>\n",
              "    </tr>\n",
              "  </thead>\n",
              "  <tbody>\n",
              "    <tr>\n",
              "      <th>1856</th>\n",
              "      <td>We, we'll go together.</td>\n",
              "      <td>0</td>\n",
              "    </tr>\n",
              "    <tr>\n",
              "      <th>2533</th>\n",
              "      <td>The teacher meant.</td>\n",
              "      <td>0</td>\n",
              "    </tr>\n",
              "    <tr>\n",
              "      <th>2622</th>\n",
              "      <td>Doug removed at the scratches from the tabletop.</td>\n",
              "      <td>0</td>\n",
              "    </tr>\n",
              "    <tr>\n",
              "      <th>5520</th>\n",
              "      <td>I've never seen the one taller man than my fat...</td>\n",
              "      <td>0</td>\n",
              "    </tr>\n",
              "    <tr>\n",
              "      <th>3748</th>\n",
              "      <td>Have in our class the kids arrived safely?</td>\n",
              "      <td>0</td>\n",
              "    </tr>\n",
              "  </tbody>\n",
              "</table>\n",
              "</div>"
            ],
            "text/plain": [
              "                                               sentence  label\n",
              "1856                             We, we'll go together.      0\n",
              "2533                                 The teacher meant.      0\n",
              "2622   Doug removed at the scratches from the tabletop.      0\n",
              "5520  I've never seen the one taller man than my fat...      0\n",
              "3748         Have in our class the kids arrived safely?      0"
            ]
          },
          "metadata": {
            "tags": []
          },
          "execution_count": 11
        }
      ]
    },
    {
      "cell_type": "code",
      "metadata": {
        "id": "PvoW7l6Tznr1",
        "colab_type": "code",
        "colab": {}
      },
      "source": [
        "# Get the lists of sentences and their labels.\n",
        "sentences = df.sentence.values\n",
        "labels = df.label.values"
      ],
      "execution_count": 0,
      "outputs": []
    },
    {
      "cell_type": "code",
      "metadata": {
        "id": "X-G24YDeztnI",
        "colab_type": "code",
        "outputId": "3e9c4598-fdf5-4630-b373-4c847a2fc3d9",
        "colab": {
          "base_uri": "https://localhost:8080/",
          "height": 82,
          "referenced_widgets": [
            "294d914470d245faafc1a22611368668",
            "1696905f509e4dad95f2c10eedfb6a04",
            "f815421499144a31a1f426e6a78dd43e",
            "939ddb81f37e46c1b4e96c7c9ce3a67c",
            "8a1642d022dd4ef2ad12352488c35332",
            "c04bdb9595d447ffa16317af01376184",
            "985f859a0fec49b4aff615f98c905ed9",
            "7de4dcaa79f44711823d83efd9d02199"
          ]
        }
      },
      "source": [
        "from transformers import BertTokenizer\n",
        "\n",
        "# Load the BERT tokenizer.\n",
        "print('Loading BERT tokenizer...')\n",
        "tokenizer = BertTokenizer.from_pretrained('bert-base-uncased', do_lower_case=True)"
      ],
      "execution_count": 13,
      "outputs": [
        {
          "output_type": "stream",
          "text": [
            "Loading BERT tokenizer...\n"
          ],
          "name": "stdout"
        },
        {
          "output_type": "display_data",
          "data": {
            "application/vnd.jupyter.widget-view+json": {
              "model_id": "294d914470d245faafc1a22611368668",
              "version_minor": 0,
              "version_major": 2
            },
            "text/plain": [
              "HBox(children=(IntProgress(value=0, description='Downloading', max=231508, style=ProgressStyle(description_wid…"
            ]
          },
          "metadata": {
            "tags": []
          }
        },
        {
          "output_type": "stream",
          "text": [
            "\n"
          ],
          "name": "stdout"
        }
      ]
    },
    {
      "cell_type": "code",
      "metadata": {
        "id": "n6ED6t4rzzyv",
        "colab_type": "code",
        "outputId": "9cc24a19-6cd3-4957-e5ad-5ee626395869",
        "colab": {
          "base_uri": "https://localhost:8080/",
          "height": 67
        }
      },
      "source": [
        "# Print the original sentence.\n",
        "print(' Original: ', sentences[0])\n",
        "\n",
        "# Print the sentence split into tokens.\n",
        "print('Tokenized: ', tokenizer.tokenize(sentences[0]))\n",
        "\n",
        "# Print the sentence mapped to token ids.\n",
        "print('Token IDs: ', tokenizer.convert_tokens_to_ids(tokenizer.tokenize(sentences[0])))"
      ],
      "execution_count": 14,
      "outputs": [
        {
          "output_type": "stream",
          "text": [
            " Original:  Our friends won't buy this analysis, let alone the next one we propose.\n",
            "Tokenized:  ['our', 'friends', 'won', \"'\", 't', 'buy', 'this', 'analysis', ',', 'let', 'alone', 'the', 'next', 'one', 'we', 'propose', '.']\n",
            "Token IDs:  [2256, 2814, 2180, 1005, 1056, 4965, 2023, 4106, 1010, 2292, 2894, 1996, 2279, 2028, 2057, 16599, 1012]\n"
          ],
          "name": "stdout"
        }
      ]
    },
    {
      "cell_type": "code",
      "metadata": {
        "id": "yd1AHyHMse4X",
        "colab_type": "code",
        "outputId": "72af3e71-73ca-4fc8-bd49-5eff2d252b11",
        "colab": {
          "base_uri": "https://localhost:8080/",
          "height": 1000
        }
      },
      "source": [
        "# A corpus is a list with documents split by sentences.\n",
        "\n",
        "# Each sentence is encoded as a 1-D vector with 78 columns\n",
        "sentence_embeddings = model.encode(sentences)\n",
        "\n",
        "print('Sample BERT embedding vector - length', len(sentence_embeddings[0]))\n",
        "\n",
        "print('Sample BERT embedding vector - note includes negative values', sentence_embeddings[0])"
      ],
      "execution_count": 15,
      "outputs": [
        {
          "output_type": "stream",
          "text": [
            "Sample BERT embedding vector - length 768\n",
            "Sample BERT embedding vector - note includes negative values [ 5.24585009e-01  5.42647958e-01  2.30358863e+00  9.50747356e-02\n",
            " -2.51180708e-01  2.61798620e-01  1.84104359e+00  4.77453887e-01\n",
            "  6.00300789e-01 -1.72035486e-01 -8.51820767e-01  5.53391516e-01\n",
            "  7.78949320e-01  4.76289093e-01 -4.35576327e-02  3.56795907e-01\n",
            "  5.38838625e-01 -7.05962121e-01 -4.79663700e-01 -5.92123330e-01\n",
            "  1.88596651e-01 -5.23634911e-01  6.86524868e-01 -4.99527544e-01\n",
            "  4.36582804e-01 -5.37337482e-01 -2.62973070e-01 -1.06037998e+00\n",
            " -4.45905983e-01  2.29971446e-02 -2.91374922e-01  4.54333514e-01\n",
            " -6.45385861e-01  2.74425507e-01 -1.08915390e-02  1.10514891e+00\n",
            "  9.44125414e-01 -4.76255327e-01  9.97415558e-02 -1.63898453e-01\n",
            "  1.84716254e-01  6.73636138e-01  6.90971017e-02  1.98957965e-01\n",
            "  1.86734200e-01 -4.39389735e-01  1.63117492e+00  1.35335132e-01\n",
            "  8.99702534e-02 -1.36250150e+00 -4.05478418e-01 -3.25468987e-01\n",
            "  1.02500808e+00  3.16027939e-01 -2.48725742e-01 -5.94698429e-01\n",
            "  5.03378510e-02 -1.53096354e+00  5.60312629e-01  2.08082441e-02\n",
            " -1.45059788e+00  6.53137803e-01 -1.61577404e-01  1.12612411e-01\n",
            " -1.50316119e-01  2.74949789e-01  4.47593555e-02  5.18962555e-02\n",
            " -9.13315594e-01 -1.81371164e+00  1.92810178e-01 -2.46409535e-01\n",
            " -1.05032988e-01 -2.75309712e-01  2.54323706e-02 -1.29594997e-01\n",
            " -4.24287133e-02  1.96246848e-01  5.08700907e-01  7.74944723e-01\n",
            " -4.05391306e-01  4.29683119e-01  1.19487211e-01 -5.77427447e-01\n",
            " -2.82605171e-01  3.38584006e-01  8.24785411e-01 -4.24431145e-01\n",
            " -8.56191158e-01 -2.27810308e-01 -2.22865298e-01  7.50711262e-01\n",
            "  7.55664706e-01 -1.15329039e+00 -9.62144852e-01  2.15031177e-01\n",
            "  3.81182373e-01  7.90743649e-01  3.46353620e-01  6.98511243e-01\n",
            "  9.28607225e-01  3.26966584e-01  2.90481478e-01 -3.76789898e-01\n",
            "  2.26712510e-01  1.14410348e-01  4.61357176e-01 -1.35748577e+00\n",
            "  6.70292154e-02 -4.97605689e-02 -1.82567984e-01  4.56304252e-01\n",
            "  8.49602044e-01 -7.33737528e-01 -4.85382795e-01  6.69898093e-01\n",
            " -1.86327386e+00 -2.08621323e-01 -4.23477925e-02  9.02751505e-01\n",
            "  9.18146133e-01 -1.50853351e-01 -1.80109352e-01 -2.37933267e-02\n",
            " -3.41872908e-02 -2.32608020e-01  3.40417922e-01  8.82654905e-01\n",
            " -6.41504467e-01 -4.92515624e-01 -1.30948797e-01  9.67017710e-01\n",
            " -5.54124355e-01 -3.31154555e-01 -1.00517392e-01  5.69831580e-02\n",
            "  3.25608462e-01 -4.64990109e-01  9.44698036e-01  5.34674168e-01\n",
            " -5.43464839e-01 -9.22966152e-02  1.21431255e+00 -2.74935156e-01\n",
            " -1.56323314e-01  3.22691165e-02  1.07785583e+00 -5.40438414e-01\n",
            " -1.64023310e-01 -8.97880733e-01 -7.65768349e-01 -6.70516312e-01\n",
            "  1.49403676e-01  1.04006302e+00  1.45290857e-02 -4.03227687e-01\n",
            "  1.25342059e+00  3.83191943e-01  1.33704856e-01  3.00187171e-01\n",
            " -2.83676237e-01 -2.98075199e-01  4.67042834e-01  3.49334419e-01\n",
            "  4.09335047e-01  1.87600702e-01  2.67478645e-01  1.88274354e-01\n",
            "  7.88008332e-01 -7.69096538e-02  6.00052059e-01 -1.34457156e-01\n",
            "  5.74780822e-01 -3.53674859e-01  1.04568982e+00 -3.94305080e-01\n",
            " -5.82091153e-01 -5.06656729e-02 -1.51119893e-03  3.31304550e-01\n",
            " -5.06151021e-01  2.51785249e-01 -4.77851361e-01 -1.89212292e-01\n",
            " -2.80921668e-01 -9.21269059e-01 -1.51904404e-01 -5.13846099e-01\n",
            " -2.28599504e-01 -6.30166650e-01 -4.04650658e-01 -1.15498997e-01\n",
            "  2.59671777e-01 -5.60658932e-01  4.12076294e-01  3.69564816e-02\n",
            "  2.45174438e-01  2.81979471e-01 -5.67742527e-01  1.68589443e-01\n",
            "  6.35454850e-03 -3.26887995e-01 -2.30648890e-02  4.11256164e-01\n",
            " -4.08128023e-01  6.38499975e-01  5.40426672e-02  2.24133685e-01\n",
            " -3.83586437e-02 -9.46744502e-01 -6.00843608e-01  1.77154653e-02\n",
            "  2.19877198e-01  1.84958488e-01  4.15263832e-01 -1.04277849e+00\n",
            "  2.28145227e-01 -7.66460299e-01  1.26074934e+00  5.63969493e-01\n",
            "  5.22763193e-01 -1.84768125e-01  3.35725516e-01  3.55246603e-01\n",
            " -6.79908395e-02  1.00685728e+00  6.17702305e-02  3.70112598e-01\n",
            " -1.20710492e+00  6.79611444e-01  4.11814637e-02  3.10673147e-01\n",
            " -4.89264429e-01 -3.55110109e-01 -5.52625954e-01 -9.71718252e-01\n",
            " -5.12610912e-01 -3.54226768e-01  8.82968724e-01 -3.95160019e-01\n",
            " -3.90302956e-01  2.02520326e-01  4.15661812e-01  8.39710653e-01\n",
            " -5.11233985e-01 -1.00074504e-02  4.66395229e-01 -9.12998319e-01\n",
            "  1.39299154e-01  1.48064330e-01 -1.21627748e+00 -3.03649873e-01\n",
            " -1.29823029e-01 -1.34428933e-01  4.12746727e-01 -1.61796078e-01\n",
            "  6.39962375e-01  5.45100272e-02  7.22437143e-01 -5.48231065e-01\n",
            " -8.68064314e-02  7.79677808e-01 -1.81295490e+00  4.25293684e-01\n",
            " -6.34480119e-01 -4.52850424e-02 -5.69626451e-01  3.09433937e-01\n",
            " -1.12469602e+00  1.13165796e-01  1.06389634e-01 -1.36973226e+00\n",
            " -2.38923699e-01  1.01974773e+00 -8.50790441e-01 -5.42670310e-01\n",
            "  4.61147249e-01 -6.25073850e-01  3.56176764e-01 -8.73395875e-02\n",
            "  5.65976381e-01  4.98092890e-01 -1.31227207e+00  1.10125804e+00\n",
            " -9.57631648e-01  1.32364559e+00  3.72985192e-02  5.19200712e-02\n",
            " -1.64222181e-01 -4.18161631e-01 -6.86833784e-02  4.19409156e-01\n",
            " -3.06757808e-01 -6.26879096e-01  9.86010730e-01 -6.49319649e-01\n",
            "  6.10178232e-01 -1.10585558e+00 -3.49625677e-01  6.99096203e-01\n",
            " -5.69045186e-01  3.91574860e-01 -6.14249647e-01  5.04734993e-01\n",
            " -1.91650286e-01  1.43527940e-01  6.62457705e-01  7.27671310e-02\n",
            "  4.30266857e-02  2.07997844e-01 -2.56862074e-01 -6.04734540e-01\n",
            " -7.85550773e-01  4.03617054e-01  1.08019054e+00 -6.17037117e-01\n",
            " -1.86188117e-01 -5.78646719e-01  4.71925735e-02 -8.80911171e-01\n",
            "  1.03562146e-01  3.00802708e-01  2.41909832e-01  8.46695527e-02\n",
            "  1.08200565e-01 -5.05348086e-01  8.20038259e-01 -1.29950717e-01\n",
            "  1.17033809e-01 -1.56473756e-01  3.12934853e-02 -6.62151456e-01\n",
            "  6.78313017e-01  3.11699003e-01  1.29666591e+00  5.02636433e-01\n",
            " -5.37926316e-01 -6.36806041e-02 -1.04688978e+00  3.69170517e-01\n",
            "  1.33487380e+00 -9.77312863e-01 -6.70420885e-01 -3.57728094e-01\n",
            " -2.78042885e-03  2.17899214e-03 -6.87985420e-01 -4.88401651e-01\n",
            " -6.19271100e-01 -3.48408669e-01  9.15656149e-01  1.03214324e+00\n",
            " -2.67492920e-01  8.55025202e-02 -6.57961667e-01 -6.45106792e-01\n",
            " -4.59066331e-01  6.40573561e-01 -5.18480778e-01 -3.98352444e-01\n",
            "  7.61906385e-01  6.31728649e-01 -9.06943798e-01 -5.57326198e-01\n",
            "  3.30975175e-01 -5.57638943e-01 -9.52734768e-01  5.18283665e-01\n",
            "  2.81688988e-01  2.99721479e-01 -7.32299984e-01  1.39147997e-01\n",
            " -3.98680121e-01 -5.75949073e-01 -2.95004606e-01 -1.41655639e-01\n",
            "  8.20271671e-02 -7.44322479e-01 -8.64210129e-01 -6.05040073e-01\n",
            "  3.19113284e-02 -1.01495571e-01  7.50740111e-01 -3.26132745e-01\n",
            "  5.28136432e-01 -3.51704836e-01  5.35306573e-01  4.42426026e-01\n",
            "  5.14584720e-01  6.60952628e-01 -1.58641133e-02 -4.16662723e-01\n",
            "  7.55868386e-03 -8.07429671e-01  2.35792741e-01 -7.04109490e-01\n",
            " -3.20849657e-01  2.53696144e-01  1.35730219e+00  5.25319576e-01\n",
            "  1.85998708e-01 -2.99258888e-01  1.08881569e+00  5.62698543e-01\n",
            "  1.31985188e+00  7.45379269e-01 -1.86314955e-02  5.02247334e-01\n",
            " -7.78780878e-01  9.21400450e-03 -6.18099347e-02 -3.00907772e-02\n",
            " -3.65262628e-01  3.17051485e-02 -1.62749320e-01  1.46683410e-01\n",
            " -3.11203510e-01 -1.30007732e+00 -1.94110051e-01  6.68341219e-01\n",
            " -1.08827844e-01  1.66154206e-02 -7.18185306e-01 -9.45770085e-01\n",
            " -1.82207152e-01  1.38097799e+00 -6.09893620e-01 -2.75392294e-01\n",
            " -2.22942650e-01 -5.02340615e-01 -5.36113262e-01 -6.19128644e-01\n",
            " -8.65744650e-01  1.39669448e-01 -8.66964161e-01 -4.99759108e-01\n",
            " -3.74472231e-01  1.51608260e-02  8.91912282e-01 -5.34520596e-02\n",
            "  5.35249412e-01 -8.93512834e-03  2.02857673e-01 -4.97511566e-01\n",
            " -6.74117625e-01  9.50067788e-02 -7.57406831e-01  2.43646041e-01\n",
            "  7.05688477e-01  2.07499221e-01 -9.03536975e-02  1.44596294e-01\n",
            " -1.04063904e+00  8.14461410e-01  5.45057654e-01  6.36236012e-01\n",
            " -3.69464040e-01  9.19944167e-01 -2.33608216e-01 -7.29300678e-02\n",
            "  1.64849564e-01  3.73912245e-01 -4.18500990e-01  1.12791449e-01\n",
            " -1.80236891e-01 -8.87098536e-02  5.37317157e-01 -1.18427956e+00\n",
            " -3.90060544e-01  5.88919185e-02 -4.57016230e-01  1.60319388e-01\n",
            "  7.46305943e-01  5.00093639e-01 -4.82888147e-02 -1.12398267e+00\n",
            " -1.96153104e+00  4.13407147e-01  4.08928335e-01  2.19253108e-01\n",
            " -1.81678191e-01 -5.62553644e-01 -3.36576365e-02 -5.84916890e-01\n",
            " -5.06731808e-01 -3.60968430e-03  3.26812595e-01  5.88069677e-01\n",
            "  2.27584299e-02  2.29708795e-02 -1.15702771e-01  2.44610965e-01\n",
            " -5.82586527e-01 -1.17888916e+00  2.01258317e-01 -1.46277404e+00\n",
            " -1.79806188e-01  5.71402848e-01  1.34178370e-01  4.50634152e-01\n",
            "  3.33598495e-01  6.28048107e-02  6.86116278e-01  1.56119376e-01\n",
            "  1.09715259e+00  6.03590487e-03  4.24807549e-01  8.97262245e-03\n",
            "  5.48568070e-01  9.18606073e-02  1.80557102e-01  7.00936139e-01\n",
            "  5.75746357e-01 -8.49785268e-01  1.10475227e-01 -7.01442778e-01\n",
            " -8.68320614e-02  1.46678105e-01 -7.66734302e-01 -4.30595204e-02\n",
            " -4.48311865e-01  3.49055588e-01  1.47292003e-01  4.39947844e-03\n",
            "  1.84098840e-01 -3.20644379e-01 -1.01481318e+00  1.22101557e+00\n",
            "  2.17309281e-01 -3.69110733e-01 -4.82117593e-01 -8.32583010e-02\n",
            " -1.25446141e-01  2.99129874e-01 -8.80933464e-01 -2.34476417e-01\n",
            "  1.72221228e-01 -3.74968290e-01 -4.52496678e-01 -5.44665754e-01\n",
            " -3.59551422e-02  7.67374635e-01  1.26776528e+00 -9.60692391e-02\n",
            " -1.37523043e+00  2.43873715e-01  6.22642994e-01  6.11636341e-01\n",
            " -1.11882567e+00 -4.39851731e-02  1.79934561e-01 -3.30799893e-02\n",
            " -2.13995829e-01 -4.95090783e-01 -4.48494196e-01 -6.86071396e-01\n",
            "  8.67348164e-02 -1.71346635e-01  2.17066094e-01  3.92674208e-01\n",
            "  1.30051514e-02  8.52304161e-01 -4.99553829e-02  2.45288625e-01\n",
            " -3.52999598e-01 -1.86653256e-01  2.72646338e-01 -6.77094936e-01\n",
            " -4.89840418e-01 -4.91702437e-01 -1.50696799e-01 -3.55386317e-01\n",
            "  8.29446256e-01 -4.09536213e-01 -5.99338055e-01 -4.39880311e-01\n",
            "  9.76717100e-02 -5.47474623e-01 -7.62804985e-01  6.59887418e-02\n",
            "  6.95659220e-01 -4.98827212e-02 -7.01109886e-01 -2.87936598e-01\n",
            " -2.22256541e-01 -5.79976082e-01 -3.55243593e-01 -9.92205083e-01\n",
            " -3.21250707e-01  1.04781844e-01  2.78015882e-01 -3.13836038e-01\n",
            " -2.92673528e-01 -3.52847725e-01  5.26806056e-01  1.28632382e-01\n",
            " -4.11975533e-01 -1.67297944e-01  4.74147856e-01 -3.82122815e-01\n",
            " -5.20928264e-01  4.46828008e-02 -4.59318221e-01  1.94549918e-01\n",
            "  8.50953460e-02 -4.85008582e-03 -7.27762803e-02  3.50481212e-01\n",
            " -4.62298900e-01 -9.23851058e-02  5.44342816e-01 -7.67131984e-01\n",
            "  7.80232787e-01  2.30407685e-01 -6.72591984e-01 -7.90767133e-01\n",
            " -7.71875322e-01  2.68484861e-01 -4.25809901e-03  6.28967464e-01\n",
            "  1.18507825e-01 -5.71153402e-01  5.80526829e-01  3.59420888e-02\n",
            "  6.92372546e-02 -6.14501178e-01  8.55947316e-01 -5.68017960e-01\n",
            "  1.95817590e-01  3.49516273e-01  3.52558434e-01  4.55040842e-01\n",
            "  3.89032125e-01  3.84514242e-01  6.59681335e-02  5.02274930e-01\n",
            "  9.91653860e-01  1.14505365e-02 -4.20598656e-01  3.36120069e-01\n",
            "  2.74529546e-01  1.12121212e+00 -7.96150342e-02 -3.44913244e-01\n",
            "  3.83668005e-01 -4.77789283e-01  6.58093840e-02 -1.22495778e-02\n",
            " -2.35977426e-01  4.55674559e-01  1.46971270e-01  1.47350594e-01\n",
            " -7.88353309e-02  1.81243300e-01 -4.58599746e-01 -5.42353876e-02\n",
            " -2.71646291e-01  9.81574237e-01 -2.75287658e-01 -5.46161473e-01\n",
            "  1.97012857e-01 -9.05001104e-01 -4.83131111e-01  1.18653022e-01\n",
            "  2.53129572e-01  1.39233303e+00  2.27789506e-01  2.50594467e-01\n",
            "  7.16243804e-01  9.61132467e-01  1.51205838e-01 -1.83146670e-01\n",
            "  2.66383946e-01 -7.98364401e-01 -5.04297577e-02 -6.63421154e-02\n",
            "  1.09058392e+00  2.48261571e-01 -1.73779324e-01  3.60658944e-01\n",
            "  4.74233866e-01 -4.38021064e-01 -5.82847357e-01 -3.66113894e-02\n",
            "  6.19197726e-01 -5.27671039e-01 -1.10556519e+00  6.08272076e-01\n",
            " -3.58915269e-01  8.18478823e-01  3.49069774e-01  3.40938240e-01\n",
            " -5.13955355e-01 -1.30679357e+00 -3.64016294e-01 -5.09673238e-01\n",
            " -5.92844784e-01 -3.95287527e-03 -5.65289080e-01  1.10330872e-01\n",
            " -9.47838962e-01  4.12331671e-01 -6.32426083e-01 -3.90614182e-01\n",
            "  3.22769850e-01 -4.02260363e-01 -6.92562878e-01  1.03208947e+00\n",
            "  1.40086687e+00  1.88959971e-01  9.26191658e-02  1.93095458e+00\n",
            "  2.05261618e-01 -3.98797631e-01 -1.13939714e+00  2.61307955e-01\n",
            " -6.63593709e-01 -9.07029092e-01 -8.99034083e-01  1.86967030e-01\n",
            " -4.72762972e-01  2.48485478e-04 -3.60370845e-01 -9.04122829e-01\n",
            "  6.66073799e-01  5.12887836e-01 -5.44831634e-01 -2.54963309e-01\n",
            " -1.11233527e-02 -7.07943797e-01  1.95241675e-01  2.44300336e-01\n",
            "  3.93681645e-01 -1.84926897e-01  1.16914463e+00  4.55140263e-01\n",
            "  4.43880230e-01 -5.37457943e-01  2.44794145e-01 -5.92766285e-01\n",
            "  6.29954100e-01  1.15752614e+00  3.93381834e-01 -3.23836118e-01\n",
            "  9.48947906e-01 -2.26429015e-01  2.62577236e-01  1.50827438e-01\n",
            "  6.51866198e-02  2.28044912e-01  1.14765584e+00  1.02222037e+00\n",
            "  2.30890319e-01  2.32660566e-02  9.77894604e-01  1.24702394e-01\n",
            " -1.10947680e+00  1.75378382e-01 -5.89550436e-01  2.39010915e-01\n",
            " -1.17872126e-01 -2.21897674e+00 -4.76395518e-01 -3.08300287e-01\n",
            " -2.13429883e-01 -6.54427856e-02 -1.21182215e+00  1.90483466e-01]\n"
          ],
          "name": "stdout"
        }
      ]
    },
    {
      "cell_type": "code",
      "metadata": {
        "id": "5c5utc3ks1lP",
        "colab_type": "code",
        "outputId": "f40b2ea5-e060-4a05-b661-99cdc8934387",
        "colab": {
          "base_uri": "https://localhost:8080/",
          "height": 101
        }
      },
      "source": [
        "!pip install sklearn\n",
        "from sklearn.metrics.pairwise import cosine_similarity\n",
        "import scipy"
      ],
      "execution_count": 16,
      "outputs": [
        {
          "output_type": "stream",
          "text": [
            "Requirement already satisfied: sklearn in /usr/local/lib/python3.6/dist-packages (0.0)\n",
            "Requirement already satisfied: scikit-learn in /usr/local/lib/python3.6/dist-packages (from sklearn) (0.22.2.post1)\n",
            "Requirement already satisfied: numpy>=1.11.0 in /usr/local/lib/python3.6/dist-packages (from scikit-learn->sklearn) (1.18.3)\n",
            "Requirement already satisfied: scipy>=0.17.0 in /usr/local/lib/python3.6/dist-packages (from scikit-learn->sklearn) (1.4.1)\n",
            "Requirement already satisfied: joblib>=0.11 in /usr/local/lib/python3.6/dist-packages (from scikit-learn->sklearn) (0.14.1)\n"
          ],
          "name": "stdout"
        }
      ]
    },
    {
      "cell_type": "code",
      "metadata": {
        "id": "w9-Aj8gJsi6V",
        "colab_type": "code",
        "outputId": "1a7c92f8-5b3c-4548-caaa-dca71cb02b06",
        "colab": {
          "base_uri": "https://localhost:8080/",
          "height": 252
        }
      },
      "source": [
        "query = 'i am in a good mood' #@param {type: 'string'}\n",
        "\n",
        "queries = [query]\n",
        "query_embeddings = model.encode(queries)\n",
        "\n",
        "# Find the closest sentences of the corpus for each query sentence based on cosine similarity\n",
        "number_top_matches =  5#@param {type: \"number\"}\n",
        "\n",
        "print(\"Semantic Search Results\")\n",
        "\n",
        "for query, query_embedding in zip(queries, query_embeddings):\n",
        "    distances = scipy.spatial.distance.cdist([query_embedding], sentence_embeddings, \"cosine\")[0]\n",
        "\n",
        "    results = zip(range(len(distances)), distances)\n",
        "    results = sorted(results, key=lambda x: x[1])\n",
        "\n",
        "    print(\"\\n\\n======================\\n\\n\")\n",
        "    print(\"Query:\", query)\n",
        "    print(\"\\nTop 5 most similar sentences in corpus:\")\n",
        "\n",
        "    for idx, distance in results[0:number_top_matches]:\n",
        "        print(sentences[idx].strip(), \"(Cosine Score: %.4f)\" % (1-distance))"
      ],
      "execution_count": 17,
      "outputs": [
        {
          "output_type": "stream",
          "text": [
            "Semantic Search Results\n",
            "\n",
            "\n",
            "======================\n",
            "\n",
            "\n",
            "Query: i am in a good mood\n",
            "\n",
            "Top 5 most similar sentences in corpus:\n",
            "Jean seems to be in a good mood. (Cosine Score: 0.9149)\n",
            "I liked. (Cosine Score: 0.8991)\n",
            "They can happy. (Cosine Score: 0.8916)\n",
            "He replied that he was happy. (Cosine Score: 0.8870)\n",
            "They can smile. (Cosine Score: 0.8745)\n"
          ],
          "name": "stdout"
        }
      ]
    }
  ]
}